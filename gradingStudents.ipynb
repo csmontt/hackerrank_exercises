{
 "cells": [
  {
   "cell_type": "code",
   "execution_count": 66,
   "metadata": {},
   "outputs": [],
   "source": [
    "def gradingStudents(grades):\n",
    "    grades_array = [0] * len(grades)\n",
    "    for i in range(len(grades)):   \n",
    "        if 5 * round(grades[i]/5,0) < 40:\n",
    "            grades_array[i] = grades[i]\n",
    "        elif (grades[i]/5)%1 > 0.5:\n",
    "            grades_array[i] = int(5 * round(grades[i]/5,0))\n",
    "        else:\n",
    "            grades_array[i] = grades[i]\n",
    "    return(grades_array)"
   ]
  },
  {
   "cell_type": "code",
   "execution_count": 67,
   "metadata": {},
   "outputs": [],
   "source": [
    "grades = [29, 67, 38, 73, 0, 33]"
   ]
  },
  {
   "cell_type": "code",
   "execution_count": 68,
   "metadata": {},
   "outputs": [
    {
     "data": {
      "text/plain": [
       "[29, 67, 40, 75, 0, 33]"
      ]
     },
     "execution_count": 68,
     "metadata": {},
     "output_type": "execute_result"
    }
   ],
   "source": [
    "gradingStudents(grades)"
   ]
  },
  {
   "cell_type": "code",
   "execution_count": 69,
   "metadata": {},
   "outputs": [],
   "source": [
    "# much faster\n",
    "def gradingStudents(grades):\n",
    "    for i in range(len(grades)):   \n",
    "        if 5 * round(grades[i]/5,0) >= 40 and (grades[i]/5)%1 > 0.5:\n",
    "            grades[i] = int(5 * round(grades[i]/5,0))\n",
    "    return(grades)"
   ]
  },
  {
   "cell_type": "code",
   "execution_count": 70,
   "metadata": {},
   "outputs": [
    {
     "data": {
      "text/plain": [
       "[29, 67, 40, 75, 0, 33]"
      ]
     },
     "execution_count": 70,
     "metadata": {},
     "output_type": "execute_result"
    }
   ],
   "source": [
    "gradingStudents(grades)"
   ]
  },
  {
   "cell_type": "code",
   "execution_count": null,
   "metadata": {},
   "outputs": [],
   "source": []
  }
 ],
 "metadata": {
  "kernelspec": {
   "display_name": "Python 3",
   "language": "python",
   "name": "python3"
  },
  "language_info": {
   "codemirror_mode": {
    "name": "ipython",
    "version": 3
   },
   "file_extension": ".py",
   "mimetype": "text/x-python",
   "name": "python",
   "nbconvert_exporter": "python",
   "pygments_lexer": "ipython3",
   "version": "3.7.6"
  }
 },
 "nbformat": 4,
 "nbformat_minor": 4
}
