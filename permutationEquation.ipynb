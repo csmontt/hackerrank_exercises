{
 "cells": [
  {
   "cell_type": "code",
   "execution_count": 203,
   "metadata": {},
   "outputs": [],
   "source": [
    "# https://www.hackerrank.com/challenges/permutation-equation/problem\n",
    "# We have to find the index of each number in an array. Then we use that index to find\n",
    "# the index of the index number and we return that number as the solution.\n",
    "\n",
    "#p.index(1), tells you the index of value 1 in array p, i coudl have use this function.\n",
    "\n",
    "# Problem with my code is that goes over i and j indices that are not necessary. when the condition is mete it should escape to next\n",
    "# iteration of higher loop.\n",
    "\n",
    "def permutationEquation(p):\n",
    "    p.insert(0,0) # added a 0 to the array as a way of making the indexes to start from 1\n",
    "                  # isntead of zero.\n",
    "    p2 = [0]*(len(p))\n",
    "    for i in range(1, len(p)): # we skip index 0\n",
    "        # from 1 to n we search for the index in p when i=1, then when i=2, etc\n",
    "        for j in range(1, len(p)):\n",
    "            # in the example below, when i = 3, p[i] = 1! \n",
    "            if p[j] == i:\n",
    "                # then we look for the index of the number in p[j]\n",
    "                for z in range(1, len(p)):\n",
    "                     if p[z] == j:\n",
    "                        # and that is the number we add to the output array\n",
    "                        p2[i] = z\n",
    "                        #print(i,j,z)\n",
    "                        \n",
    "    return(p2[1:len(p)])\n",
    "                \n",
    "    "
   ]
  },
  {
   "cell_type": "code",
   "execution_count": 204,
   "metadata": {},
   "outputs": [],
   "source": [
    "p = [5, 2, 1, 3, 4]\n",
    "#p = [2, 3, 1]"
   ]
  },
  {
   "cell_type": "code",
   "execution_count": 205,
   "metadata": {},
   "outputs": [
    {
     "name": "stdout",
     "output_type": "stream",
     "text": [
      "1 3 4\n",
      "2 2 2\n",
      "3 4 5\n",
      "4 5 1\n",
      "5 1 3\n"
     ]
    },
    {
     "data": {
      "text/plain": [
       "[4, 2, 5, 1, 3]"
      ]
     },
     "execution_count": 205,
     "metadata": {},
     "output_type": "execute_result"
    }
   ],
   "source": [
    "permutationEquation(p)"
   ]
  },
  {
   "cell_type": "code",
   "execution_count": 175,
   "metadata": {},
   "outputs": [],
   "source": [
    "# e.g. \n",
    "# After we add a zero at the beginning of the array, 1 is at position 3, so p[3] == 1\n",
    "# then we need to find the index of p for 3, this happens when p[4]. That value, 4, is returned. \n",
    "# if we did p(p(4)), we get the value of one. We can do this with the rest of the numbers.\n",
    "# It is as follows, p[p[4]] ->\n",
    "# p[4] -> 3\n",
    "# p[3] -> 1"
   ]
  },
  {
   "cell_type": "code",
   "execution_count": 181,
   "metadata": {},
   "outputs": [],
   "source": [
    "def permutationEquation(p):\n",
    "    return [(p.index(p.index(i)+1)+1) for i in range(1, max(p)+1)]"
   ]
  },
  {
   "cell_type": "code",
   "execution_count": 179,
   "metadata": {},
   "outputs": [],
   "source": [
    "def permutationEquation(p):\n",
    "    n = len(p)\n",
    "    for i in range(n):   \n",
    "        print(p.index(p.index(i+1)+1)+1)"
   ]
  },
  {
   "cell_type": "code",
   "execution_count": 186,
   "metadata": {},
   "outputs": [
    {
     "data": {
      "text/plain": [
       "[6, 5, 2, 0, 3, 0]"
      ]
     },
     "execution_count": 186,
     "metadata": {},
     "output_type": "execute_result"
    }
   ],
   "source": [
    "permutationEquation(p)"
   ]
  },
  {
   "cell_type": "code",
   "execution_count": 192,
   "metadata": {},
   "outputs": [
    {
     "data": {
      "text/plain": [
       "2"
      ]
     },
     "execution_count": 192,
     "metadata": {},
     "output_type": "execute_result"
    }
   ],
   "source": [
    "p.index(1)"
   ]
  },
  {
   "cell_type": "code",
   "execution_count": 193,
   "metadata": {},
   "outputs": [
    {
     "data": {
      "text/plain": [
       "[5, 2, 1, 3, 4]"
      ]
     },
     "execution_count": 193,
     "metadata": {},
     "output_type": "execute_result"
    }
   ],
   "source": [
    "p"
   ]
  },
  {
   "cell_type": "code",
   "execution_count": null,
   "metadata": {},
   "outputs": [],
   "source": []
  }
 ],
 "metadata": {
  "kernelspec": {
   "display_name": "Python 3",
   "language": "python",
   "name": "python3"
  },
  "language_info": {
   "codemirror_mode": {
    "name": "ipython",
    "version": 3
   },
   "file_extension": ".py",
   "mimetype": "text/x-python",
   "name": "python",
   "nbconvert_exporter": "python",
   "pygments_lexer": "ipython3",
   "version": "3.7.6"
  }
 },
 "nbformat": 4,
 "nbformat_minor": 4
}
