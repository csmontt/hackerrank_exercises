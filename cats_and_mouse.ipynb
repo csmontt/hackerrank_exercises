{
 "cells": [
  {
   "cell_type": "code",
   "execution_count": 2,
   "metadata": {},
   "outputs": [],
   "source": [
    "# cats and a mouse\n",
    "# https://www.hackerrank.com/challenges/cats-and-a-mouse/problem\n",
    "def catAndMouse(x, y, z):\n",
    "    if abs(x - z) == abs(y - z):\n",
    "        return(\"Mouse C\")\n",
    "    elif abs(x - z) < abs(y - z):\n",
    "        return(\"Cat A\")\n",
    "    else:\n",
    "        return(\"Cat B\")"
   ]
  },
  {
   "cell_type": "code",
   "execution_count": 4,
   "metadata": {},
   "outputs": [
    {
     "name": "stdout",
     "output_type": "stream",
     "text": [
      "Mouse C\n"
     ]
    }
   ],
   "source": [
    "catAndMouse(1,3,2)"
   ]
  },
  {
   "cell_type": "code",
   "execution_count": 5,
   "metadata": {},
   "outputs": [],
   "source": [
    "def catAndMouse(x, y, z):\n",
    "    a = abs(x-z)\n",
    "    b = abs(y-z)\n",
    "    \n",
    "    return \"Cat A\" if a<b else \"Cat B\" if b<a else \"Mouse C\""
   ]
  },
  {
   "cell_type": "code",
   "execution_count": 6,
   "metadata": {},
   "outputs": [
    {
     "data": {
      "text/plain": [
       "'Mouse C'"
      ]
     },
     "execution_count": 6,
     "metadata": {},
     "output_type": "execute_result"
    }
   ],
   "source": [
    "catAndMouse(1,3,2)"
   ]
  },
  {
   "cell_type": "code",
   "execution_count": null,
   "metadata": {},
   "outputs": [],
   "source": []
  }
 ],
 "metadata": {
  "kernelspec": {
   "display_name": "Python 3",
   "language": "python",
   "name": "python3"
  },
  "language_info": {
   "codemirror_mode": {
    "name": "ipython",
    "version": 3
   },
   "file_extension": ".py",
   "mimetype": "text/x-python",
   "name": "python",
   "nbconvert_exporter": "python",
   "pygments_lexer": "ipython3",
   "version": "3.7.6"
  }
 },
 "nbformat": 4,
 "nbformat_minor": 4
}
