{
 "cells": [
  {
   "cell_type": "markdown",
   "metadata": {},
   "source": [
    "## Longest subarray\n",
    "Given an array of integers, what is the length of the longest subarray containing no more than two distinct values such that the distinct values differ by no more than 1?\n",
    "\n",
    "Example: \n",
    "\n",
    "arr = [0,1,2,1,2,3]\n",
    "\n",
    "The largest subarray has length 4:\n",
    "\n",
    "[1,2,1,2]"
   ]
  },
  {
   "cell_type": "code",
   "execution_count": 116,
   "metadata": {},
   "outputs": [],
   "source": [
    "def longestSubArray(arr):\n",
    "    l = [0] * len(arr) # for storing the sum of longest subarray for each number\n",
    "    k = 0\n",
    "    # I compare the firs tnumber with all numbers, then the second number with the subsequent numbers and so on.\n",
    "    for i in range(len(arr)):\n",
    "        for j in range(k, len(arr)): # I needed a 'dynamic' index, where the lowest index should increase by one in each iteration\n",
    "            if abs(arr[i] - arr[j]) <= 1:\n",
    "                l[j] += 1\n",
    "            elif abs(arr[i] - arr[j]) >= 2:   \n",
    "                break\n",
    "            #print(i,j)\n",
    "        k +=1\n",
    "    return(max(l)) # I select the longest subarray. I can probably make thi smore efficient by just keeping the longest subarray so far."
   ]
  },
  {
   "cell_type": "code",
   "execution_count": 117,
   "metadata": {},
   "outputs": [],
   "source": [
    "arr = [0,1,2,1,2,3]\n",
    "arr = [1,1,1,3,3,2,2]"
   ]
  },
  {
   "cell_type": "code",
   "execution_count": 118,
   "metadata": {},
   "outputs": [
    {
     "data": {
      "text/plain": [
       "4"
      ]
     },
     "execution_count": 118,
     "metadata": {},
     "output_type": "execute_result"
    }
   ],
   "source": [
    "longestSubArray(arr)"
   ]
  },
  {
   "cell_type": "code",
   "execution_count": null,
   "metadata": {},
   "outputs": [],
   "source": []
  },
  {
   "cell_type": "code",
   "execution_count": null,
   "metadata": {},
   "outputs": [],
   "source": []
  }
 ],
 "metadata": {
  "kernelspec": {
   "display_name": "Python 3",
   "language": "python",
   "name": "python3"
  },
  "language_info": {
   "codemirror_mode": {
    "name": "ipython",
    "version": 3
   },
   "file_extension": ".py",
   "mimetype": "text/x-python",
   "name": "python",
   "nbconvert_exporter": "python",
   "pygments_lexer": "ipython3",
   "version": "3.7.6"
  }
 },
 "nbformat": 4,
 "nbformat_minor": 4
}
