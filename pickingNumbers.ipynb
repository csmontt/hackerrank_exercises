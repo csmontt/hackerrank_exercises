{
 "cells": [
  {
   "cell_type": "code",
   "execution_count": 1,
   "metadata": {},
   "outputs": [],
   "source": [
    "# picking numbers \n",
    "# https://www.hackerrank.com/challenges/picking-numbers/problem?h_r=next-challenge&h_v=zen\n",
    "\n",
    "def pickingNumbers(a):\n",
    "    j = 0\n",
    "    count = [0]*100\n",
    "    c_ones = 0\n",
    "    sorted_a = sorted(a)\n",
    "    for i in range(1, len(sorted_a)):\n",
    "        if (sorted_a[i] - sorted_a[i-1]) == 0:\n",
    "            count[j] += 1\n",
    "            #counts.append[sorted_a[i]]\n",
    "        elif (sorted_a[i] - sorted_a[i-1]) == 1 and c_ones < 1:   \n",
    "            count[j] += 1\n",
    "            c_ones += 1\n",
    "        elif (sorted_a[i] - sorted_a[i-1]) == 1 and c_ones == 1:   \n",
    "            j += 1\n",
    "            c_ones = 0\n",
    "        elif ((sorted_a[i] - sorted_a[i-1]) > 1):\n",
    "            j += 1\n",
    "            c_ones = 0\n",
    "       # print(len(sorted_a), 'iteration', i, 'dif', sorted_a[i] - sorted_a[i-1], sorted_a[i], sorted_a[i-1], 'count', count, 'consecutive ones', c_ones)\n",
    "    return(max(count)+1)\n",
    "            \n",
    "    "
   ]
  },
  {
   "cell_type": "code",
   "execution_count": 2,
   "metadata": {},
   "outputs": [
    {
     "data": {
      "text/plain": [
       "[4, 6, 5, 3, 3, 1]"
      ]
     },
     "execution_count": 2,
     "metadata": {},
     "output_type": "execute_result"
    }
   ],
   "source": [
    "a = [4, 6, 5, 3, 3, 1]\n",
    "#a = [1, 2, 2, 3, 1, 2]\n",
    "#a = [item for item in [66] for i in range(100)]\n",
    "#a = [item for item in [10] for i in range(10)]\n",
    "#a = [98, 3, 99, 1, 97, 2]\n",
    "a"
   ]
  },
  {
   "cell_type": "code",
   "execution_count": 3,
   "metadata": {},
   "outputs": [
    {
     "data": {
      "text/plain": [
       "[1, 3, 3, 4, 5, 6]"
      ]
     },
     "execution_count": 3,
     "metadata": {},
     "output_type": "execute_result"
    }
   ],
   "source": [
    "sorted(a)"
   ]
  },
  {
   "cell_type": "code",
   "execution_count": 4,
   "metadata": {},
   "outputs": [
    {
     "data": {
      "text/plain": [
       "3"
      ]
     },
     "execution_count": 4,
     "metadata": {},
     "output_type": "execute_result"
    }
   ],
   "source": [
    "pickingNumbers(a)"
   ]
  },
  {
   "cell_type": "code",
   "execution_count": 5,
   "metadata": {},
   "outputs": [],
   "source": [
    "#f = open(\"pickingNumbers.txt\", \"r\")\n",
    "f = open(\"pickingNumbers_test_case2.txt\", \"r\")\n",
    "lines = f.read().split(' ')\n",
    "my_list = [ int(i) for i in lines ]"
   ]
  },
  {
   "cell_type": "code",
   "execution_count": 6,
   "metadata": {},
   "outputs": [
    {
     "data": {
      "text/plain": [
       "3"
      ]
     },
     "execution_count": 6,
     "metadata": {},
     "output_type": "execute_result"
    }
   ],
   "source": [
    "pickingNumbers(my_list)"
   ]
  },
  {
   "cell_type": "code",
   "execution_count": 7,
   "metadata": {},
   "outputs": [
    {
     "data": {
      "text/plain": [
       "100"
      ]
     },
     "execution_count": 7,
     "metadata": {},
     "output_type": "execute_result"
    }
   ],
   "source": [
    "# the elegant way\n",
    "def pickingNumbers(a):\n",
    "    freq = [0 for i in range(10)]\n",
    "    max_pair = 0\n",
    "    for n in a:\n",
    "        freq[n] += 1\n",
    "        max_pair = max(max_pair, max((freq[n] + freq[n-1]), (freq[n] + freq[n+1])))\n",
    "        #print('n', n, 'freq', freq)\n",
    "        #print('max_pair', max_pair)\n",
    "    return max_pair"
   ]
  },
  {
   "cell_type": "code",
   "execution_count": null,
   "metadata": {},
   "outputs": [],
   "source": []
  },
  {
   "cell_type": "code",
   "execution_count": null,
   "metadata": {},
   "outputs": [],
   "source": []
  }
 ],
 "metadata": {
  "kernelspec": {
   "display_name": "Python 3",
   "language": "python",
   "name": "python3"
  },
  "language_info": {
   "codemirror_mode": {
    "name": "ipython",
    "version": 3
   },
   "file_extension": ".py",
   "mimetype": "text/x-python",
   "name": "python",
   "nbconvert_exporter": "python",
   "pygments_lexer": "ipython3",
   "version": "3.7.6"
  }
 },
 "nbformat": 4,
 "nbformat_minor": 4
}
