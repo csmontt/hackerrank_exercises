{
 "cells": [
  {
   "cell_type": "code",
   "execution_count": 69,
   "metadata": {},
   "outputs": [],
   "source": [
    "# https://www.hackerrank.com/challenges/jumping-on-the-clouds-revisited/problem\n",
    "# the issue I was struggling with is that, if I use a stopping condition\n",
    "# when the index == 0, I dont take into account the last jump.\n",
    "# That is why I added the additional if statement at the end, to decrease the energy\n",
    "# accordingly.\n",
    "\n",
    "# the code below mine, is how this can be address. Basically, we initialize i not with\n",
    "# 0 but with the value of i after the first jump\n",
    "\n",
    "def jumpingOnClouds(c, k):\n",
    "    e = 100\n",
    "    n = len(c)\n",
    "    i = 0\n",
    "    while ((i + k) % n) != 0: # couldnt do i != 0 cause I initialize it as 0, it would stop right away!\n",
    "        i = (i + k) % n\n",
    "        #print(i)\n",
    "        if c[i] == 1:\n",
    "            e -= 3\n",
    "        else:\n",
    "            e -= 1\n",
    "    if c[(i + k) % n] == 1:\n",
    "        e -= 3\n",
    "    else:\n",
    "        e -= 1\n",
    "    return(e)"
   ]
  },
  {
   "cell_type": "code",
   "execution_count": 70,
   "metadata": {},
   "outputs": [],
   "source": [
    "c = [0, 0, 1, 0, 0, 1, 1, 0]\n",
    "k = 2"
   ]
  },
  {
   "cell_type": "code",
   "execution_count": 71,
   "metadata": {},
   "outputs": [
    {
     "data": {
      "text/plain": [
       "92"
      ]
     },
     "execution_count": 71,
     "metadata": {},
     "output_type": "execute_result"
    }
   ],
   "source": [
    "jumpingOnClouds(c, k)"
   ]
  },
  {
   "cell_type": "code",
   "execution_count": 72,
   "metadata": {},
   "outputs": [],
   "source": [
    "def jumpingOnClouds(c, k):\n",
    "    energy = 100 #initial energy\n",
    "    n = len(c)\n",
    "    i = k % n #initial jump from 0 (i is 0 at the beggining so it ends up being k % n)\n",
    "    # is multiplied by 2 because if we end at c[i] == 1, the cost of falling in \n",
    "    # a 1 is 2. We add to that the cost of jumping which is 1.\n",
    "    energy -= c[i] * 2 + 1 #initial energy loss\n",
    "    while i != 0:\n",
    "        i = (i + k) % n\n",
    "        energy -= c[i] * 2 + 1\n",
    "    print(energy)"
   ]
  },
  {
   "cell_type": "code",
   "execution_count": 73,
   "metadata": {},
   "outputs": [
    {
     "name": "stdout",
     "output_type": "stream",
     "text": [
      "92\n"
     ]
    }
   ],
   "source": [
    "jumpingOnClouds(c, k)"
   ]
  },
  {
   "cell_type": "code",
   "execution_count": null,
   "metadata": {},
   "outputs": [],
   "source": []
  }
 ],
 "metadata": {
  "kernelspec": {
   "display_name": "Python 3",
   "language": "python",
   "name": "python3"
  },
  "language_info": {
   "codemirror_mode": {
    "name": "ipython",
    "version": 3
   },
   "file_extension": ".py",
   "mimetype": "text/x-python",
   "name": "python",
   "nbconvert_exporter": "python",
   "pygments_lexer": "ipython3",
   "version": "3.7.6"
  }
 },
 "nbformat": 4,
 "nbformat_minor": 4
}
