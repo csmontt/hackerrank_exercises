{
 "cells": [
  {
   "cell_type": "code",
   "execution_count": 1,
   "metadata": {},
   "outputs": [],
   "source": [
    "# between two sets\n",
    "def getTotalX(a, b):\n",
    "    #arr = []\n",
    "    counter = 0\n",
    "    #maxa, minb = max(a), min(b)\n",
    "    for j in range(max(a), min(b)+1):\n",
    "        if (sum([j % x for x in a]) == 0) and (sum([x % j for x in b]) == 0):\n",
    "        #if (sum([x % j for x in b]) == 0):\n",
    "            #arr.append(j)   \n",
    "            counter += 1\n",
    "    #return(len(arr))\n",
    "    return(counter)"
   ]
  },
  {
   "cell_type": "code",
   "execution_count": 2,
   "metadata": {},
   "outputs": [],
   "source": [
    "a = [2,4]\n",
    "b = [16, 32, 96]"
   ]
  },
  {
   "cell_type": "code",
   "execution_count": null,
   "metadata": {},
   "outputs": [],
   "source": [
    "getTotalX(a,b)"
   ]
  }
 ],
 "metadata": {
  "kernelspec": {
   "display_name": "Python 3",
   "language": "python",
   "name": "python3"
  },
  "language_info": {
   "codemirror_mode": {
    "name": "ipython",
    "version": 3
   },
   "file_extension": ".py",
   "mimetype": "text/x-python",
   "name": "python",
   "nbconvert_exporter": "python",
   "pygments_lexer": "ipython3",
   "version": "3.7.6"
  }
 },
 "nbformat": 4,
 "nbformat_minor": 4
}
