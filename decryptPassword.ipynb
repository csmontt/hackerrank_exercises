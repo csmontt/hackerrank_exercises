{
 "cells": [
  {
   "cell_type": "code",
   "execution_count": 213,
   "metadata": {},
   "outputs": [],
   "source": [
    "# Task: desencrypt password\n",
    "# The passwword encryption follows this steps:\n",
    "# Given string s, let s[i] represent the ith character in the string s, using 0-based indexing.\n",
    "# 1. initially i = 0.\n",
    "# 2. if s[i] is lowercase and the next character is uppercase, sqap them and add * after them and move to i + 2\n",
    "# 3. if s[i] is a number, replace it with 0, place the original number at the start, and move i+1\n",
    "# 4. Else move i + 1\n",
    "# 5. stop if i is more than or equal to string length, otherwise go to step 2.\n",
    "# e.g. when encrypted 'hAck3rr4nk' is '43Ah*ck0rr0nk'"
   ]
  },
  {
   "cell_type": "code",
   "execution_count": 214,
   "metadata": {},
   "outputs": [],
   "source": [
    "def decryptPassword(s):\n",
    "    s = s + \"  \" # added empty strings so I didnt encountered index out of range problem\n",
    "    count0 = 0 # count the number of 0 in the string\n",
    "    s_new = [] # empty lsit to append strings\n",
    "    for i in range(len(s)): # count the number of 0 in the string\n",
    "        if(s[i]=='0'):\n",
    "            count0 += 1\n",
    "    for i in range(len(s)): \n",
    "        #print(i)\n",
    "        if i+2 < len(s):\n",
    "            if s[i]=='*':\n",
    "                s_new.append(s[i-1] + s[i-2])\n",
    "            elif (s[i+2] != '*' and s[i+1] != '*') and s[i].isnumeric() == False:\n",
    "                 s_new.append(s[i])\n",
    "            elif s[i] == '0':\n",
    "                s_new.append(s[count0-1])\n",
    "                count0 -= 1        \n",
    "    return(''.join(s_new))"
   ]
  },
  {
   "cell_type": "code",
   "execution_count": 215,
   "metadata": {},
   "outputs": [
    {
     "data": {
      "text/plain": [
       "'hAck3rr4nk'"
      ]
     },
     "execution_count": 215,
     "metadata": {},
     "output_type": "execute_result"
    }
   ],
   "source": [
    "decryptPassword(\"43Ah*ck0rr0nk\")"
   ]
  },
  {
   "cell_type": "code",
   "execution_count": null,
   "metadata": {},
   "outputs": [],
   "source": []
  },
  {
   "cell_type": "code",
   "execution_count": null,
   "metadata": {},
   "outputs": [],
   "source": []
  },
  {
   "cell_type": "code",
   "execution_count": null,
   "metadata": {},
   "outputs": [],
   "source": []
  },
  {
   "cell_type": "code",
   "execution_count": 100,
   "metadata": {},
   "outputs": [],
   "source": []
  },
  {
   "cell_type": "code",
   "execution_count": null,
   "metadata": {},
   "outputs": [],
   "source": []
  },
  {
   "cell_type": "code",
   "execution_count": 194,
   "metadata": {},
   "outputs": [],
   "source": []
  },
  {
   "cell_type": "code",
   "execution_count": null,
   "metadata": {},
   "outputs": [],
   "source": []
  },
  {
   "cell_type": "code",
   "execution_count": 47,
   "metadata": {},
   "outputs": [],
   "source": []
  },
  {
   "cell_type": "code",
   "execution_count": null,
   "metadata": {},
   "outputs": [],
   "source": [
    "\n"
   ]
  },
  {
   "cell_type": "code",
   "execution_count": null,
   "metadata": {},
   "outputs": [],
   "source": []
  }
 ],
 "metadata": {
  "kernelspec": {
   "display_name": "Python 3",
   "language": "python",
   "name": "python3"
  },
  "language_info": {
   "codemirror_mode": {
    "name": "ipython",
    "version": 3
   },
   "file_extension": ".py",
   "mimetype": "text/x-python",
   "name": "python",
   "nbconvert_exporter": "python",
   "pygments_lexer": "ipython3",
   "version": "3.7.6"
  }
 },
 "nbformat": 4,
 "nbformat_minor": 4
}
