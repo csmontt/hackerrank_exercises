{
 "cells": [
  {
   "cell_type": "markdown",
   "metadata": {},
   "source": [
    "There are certain constraints for this problem, the magic constant of a 3x3 magic cube is 15. So each row column and diagoal needs to sum  up to 15.\n",
    "Also, isntead of checking all possible solutions, doing some google we can know that there are only 8 possible solutions. We can just compared the 3X3 matrix we get with those solutions with the hard coded 8 solutions and cehck which one is cheaper to implement.\n",
    "\n",
    "https://www.hackerrank.com/challenges/magic-square-forming/problem?h_r=next-challenge&h_v=zen\n",
    "check https://www.mathblog.dk/hackerrank-forming-a-magic-square/"
   ]
  },
  {
   "cell_type": "code",
   "execution_count": 119,
   "metadata": {},
   "outputs": [],
   "source": [
    "def formingMagicSquare(s):\n",
    "    # possible solutions\n",
    "    all_n = [\n",
    "            [8, 1, 6, 3, 5, 7, 4, 9, 2],\n",
    "            [6, 1, 8, 7, 5, 3, 2, 9, 4],\n",
    "            [4, 9, 2, 3, 5, 7, 8, 1, 6],\n",
    "            [2, 9, 4, 7, 5, 3, 6, 1, 8],\n",
    "            [8, 3, 4, 1, 5, 9, 6, 7, 2],\n",
    "            [4, 3, 8, 9, 5, 1, 2, 7, 6],\n",
    "            [6, 7, 2, 1, 5, 9, 8, 3, 4],\n",
    "            [2, 7, 6, 9, 5, 1, 4, 3, 8]\n",
    "        ]\n",
    "    ar_1 = sum(s, [])\n",
    "    diff = [0]*8\n",
    "    # the cost is the sume of the absolute differences between the number in the inout matrix and\n",
    "    # the number in the magic cube. We are looking for the magic cube that is cheaper to change to.\n",
    "    # we just get the absolute differences between the input and the possible magic cubes and select the one\n",
    "    # for which the difference is minimized.\n",
    "    for i in range(len(all_n)):\n",
    "        diff[i] = sum([abs(first - second) for first, second in zip(all_n[i], ar_1)])\n",
    "    print(min(diff))\n",
    "        "
   ]
  },
  {
   "cell_type": "code",
   "execution_count": 122,
   "metadata": {},
   "outputs": [],
   "source": [
    "ar = [[5, 3, 4], [1, 5, 8], [6, 4, 2]]\n",
    "ar = [[4, 8, 2], [4, 5, 7], [6, 1, 6]]"
   ]
  },
  {
   "cell_type": "code",
   "execution_count": 123,
   "metadata": {},
   "outputs": [
    {
     "name": "stdout",
     "output_type": "stream",
     "text": [
      "4\n"
     ]
    }
   ],
   "source": [
    "formingMagicSquare(ar)"
   ]
  },
  {
   "cell_type": "code",
   "execution_count": 109,
   "metadata": {},
   "outputs": [
    {
     "name": "stdout",
     "output_type": "stream",
     "text": [
      "31\n"
     ]
    }
   ],
   "source": [
    "formingMagicSquare(ar)"
   ]
  },
  {
   "cell_type": "code",
   "execution_count": 114,
   "metadata": {},
   "outputs": [],
   "source": [
    "def formingMagicSquare(s):\n",
    "    all_n = [\n",
    "            [8, 1, 6, 3, 5, 7, 4, 9, 2],\n",
    "            [6, 1, 8, 7, 5, 3, 2, 9, 4],\n",
    "            [4, 9, 2, 3, 5, 7, 8, 1, 6],\n",
    "            [2, 9, 4, 7, 5, 3, 6, 1, 8],\n",
    "            [8, 3, 4, 1, 5, 9, 6, 7, 2],\n",
    "            [4, 3, 8, 9, 5, 1, 2, 7, 6],\n",
    "            [6, 7, 2, 1, 5, 9, 8, 3, 4],\n",
    "            [2, 7, 6, 9, 5, 1, 4, 3, 8]\n",
    "            ]\n",
    "    s = sum(s, [])\n",
    "    allsum = []\n",
    "    for l in all_n:\n",
    "        allsum.append(sum([abs(s[i]-l[i]) for i in range(9)]))\n",
    " \n",
    "    print(min(allsum))"
   ]
  },
  {
   "cell_type": "code",
   "execution_count": 115,
   "metadata": {},
   "outputs": [
    {
     "name": "stdout",
     "output_type": "stream",
     "text": [
      "7\n"
     ]
    }
   ],
   "source": [
    "formingMagicSquare(ar)"
   ]
  },
  {
   "cell_type": "code",
   "execution_count": 116,
   "metadata": {},
   "outputs": [],
   "source": [
    "s = [[5, 3, 4], [1, 5, 8], [6, 4, 2]]\n",
    "s = sum(s, [])"
   ]
  },
  {
   "cell_type": "code",
   "execution_count": 117,
   "metadata": {},
   "outputs": [],
   "source": [
    "    allsum = []\n",
    "    for l in all_n:\n",
    "        allsum.append(sum([abs(s[i]-l[i]) for i in range(9)]))"
   ]
  },
  {
   "cell_type": "code",
   "execution_count": 118,
   "metadata": {},
   "outputs": [
    {
     "data": {
      "text/plain": [
       "[17, 29, 21, 29, 7, 31, 13, 33]"
      ]
     },
     "execution_count": 118,
     "metadata": {},
     "output_type": "execute_result"
    }
   ],
   "source": [
    "allsum"
   ]
  },
  {
   "cell_type": "code",
   "execution_count": null,
   "metadata": {},
   "outputs": [],
   "source": []
  }
 ],
 "metadata": {
  "kernelspec": {
   "display_name": "Python 3",
   "language": "python",
   "name": "python3"
  },
  "language_info": {
   "codemirror_mode": {
    "name": "ipython",
    "version": 3
   },
   "file_extension": ".py",
   "mimetype": "text/x-python",
   "name": "python",
   "nbconvert_exporter": "python",
   "pygments_lexer": "ipython3",
   "version": "3.7.6"
  }
 },
 "nbformat": 4,
 "nbformat_minor": 4
}
